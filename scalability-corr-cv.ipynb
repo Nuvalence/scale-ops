{
 "cells": [
  {
   "cell_type": "code",
   "execution_count": null,
   "metadata": {
    "collapsed": true
   },
   "outputs": [],
   "source": [
    "from datetime import datetime, timedelta\n",
    "import matplotlib.pyplot as plt\n",
    "import scaleops.scenario as sc\n",
    "from IPython.display import display\n",
    "\n",
    "from scaleops.promqlpandas import Prometheus\n",
    "from scaleops.scenario import Scenario\n",
    "from scaleops.scenariometrics import (NodeScenarioMetricsMixin)\n",
    "\n",
    "# @formatter:off\n",
    "%matplotlib inline\n",
    "# @formatter:on\n",
    "\n",
    "plt.style.use('seaborn-whitegrid')\n",
    "\n",
    "\n",
    "class WorkingScenarioMetrics(NodeScenarioMetricsMixin):\n",
    "    pass\n",
    "\n",
    "\n",
    "a = Scenario(\n",
    "        '',\n",
    "        '',\n",
    "        datetime.now() - timedelta(days=2),\n",
    "        datetime.now() - timedelta(days=1),\n",
    "        '1m'\n",
    ")\n",
    "b = Scenario(\n",
    "        '',\n",
    "        '',\n",
    "        datetime.now() - timedelta(days=7),\n",
    "        datetime.now() - timedelta(days=6),\n",
    "        '1m'\n",
    ")\n",
    "\n",
    "p = Prometheus('http://demo.robustperception.io:9090/')\n",
    "s = WorkingScenarioMetrics(p)"
   ]
  },
  {
   "cell_type": "code",
   "execution_count": null,
   "outputs": [],
   "source": [
    "a_node_cpu_utilization = s.node_cpu_utilization(a)[0].metric.groupby('instance', axis=1).sum()\n",
    "b_node_cpu_utilization = s.node_cpu_utilization(b)[0].metric.groupby('instance', axis=1).sum()\n",
    "sc.plot_cm_ab('node_cpu_utilization', 'A', 'B', a_node_cpu_utilization * 100,\n",
    "              b_node_cpu_utilization * 100)"
   ],
   "metadata": {
    "collapsed": false,
    "pycharm": {
     "name": "#%%\n"
    }
   }
  }
 ],
 "metadata": {
  "kernelspec": {
   "display_name": "Python 3",
   "language": "python",
   "name": "python3"
  },
  "language_info": {
   "codemirror_mode": {
    "name": "ipython",
    "version": 2
   },
   "file_extension": ".py",
   "mimetype": "text/x-python",
   "name": "python",
   "nbconvert_exporter": "python",
   "pygments_lexer": "ipython2",
   "version": "2.7.6"
  }
 },
 "nbformat": 4,
 "nbformat_minor": 0
}